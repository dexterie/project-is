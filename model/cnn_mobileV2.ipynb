{
  "metadata": {
    "kernelspec": {
      "language": "python",
      "display_name": "Python 3",
      "name": "python3"
    },
    "language_info": {
      "name": "python",
      "version": "3.10.12",
      "mimetype": "text/x-python",
      "codemirror_mode": {
        "name": "ipython",
        "version": 3
      },
      "pygments_lexer": "ipython3",
      "nbconvert_exporter": "python",
      "file_extension": ".py"
    },
    "kaggle": {
      "accelerator": "none",
      "dataSources": [
        {
          "sourceId": 1003830,
          "sourceType": "datasetVersion",
          "datasetId": 550917
        }
      ],
      "dockerImageVersionId": 30918,
      "isInternetEnabled": false,
      "language": "python",
      "sourceType": "notebook",
      "isGpuEnabled": false
    },
    "colab": {
      "name": "notebook49cb69b258",
      "provenance": []
    }
  },
  "nbformat_minor": 0,
  "nbformat": 4,
  "cells": [
    {
      "source": [
        "# IMPORTANT: RUN THIS CELL IN ORDER TO IMPORT YOUR KAGGLE DATA SOURCES,\n",
        "# THEN FEEL FREE TO DELETE THIS CELL.\n",
        "# NOTE: THIS NOTEBOOK ENVIRONMENT DIFFERS FROM KAGGLE'S PYTHON\n",
        "# ENVIRONMENT SO THERE MAY BE MISSING LIBRARIES USED BY YOUR\n",
        "# NOTEBOOK.\n",
        "import kagglehub\n",
        "shaunthesheep_microsoft_catsvsdogs_dataset_path = kagglehub.dataset_download('shaunthesheep/microsoft-catsvsdogs-dataset')\n",
        "\n",
        "print('Data source import complete.')\n"
      ],
      "metadata": {
        "id": "ur2MhAlIaRPt",
        "outputId": "447d32d4-c924-4557-bc06-51088dde1252",
        "colab": {
          "base_uri": "https://localhost:8080/"
        }
      },
      "cell_type": "code",
      "outputs": [
        {
          "output_type": "stream",
          "name": "stdout",
          "text": [
            "Data source import complete.\n"
          ]
        }
      ],
      "execution_count": 33
    },
    {
      "cell_type": "code",
      "source": [
        "# This Python 3 environment comes with many helpful analytics libraries installed\n",
        "# It is defined by the kaggle/python Docker image: https://github.com/kaggle/docker-python\n",
        "# For example, here's several helpful packages to load\n",
        "\n",
        "import numpy as np # linear algebra\n",
        "import pandas as pd # data processing, CSV file I/O (e.g. pd.read_csv)\n",
        "\n",
        "# Input data files are available in the read-only \"../input/\" directory\n",
        "# For example, running this (by clicking run or pressing Shift+Enter) will list all files under the input directory\n",
        "\n",
        "import os\n",
        "for dirname, _, filenames in os.walk('/kaggle/input'):\n",
        "    for filename in filenames:\n",
        "        print(os.path.join(dirname, filename))\n",
        "\n",
        "# You can write up to 20GB to the current directory (/kaggle/working/) that gets preserved as output when you create a version using \"Save & Run All\"\n",
        "# You can also write temporary files to /kaggle/temp/, but they won't be saved outside of the current session"
      ],
      "metadata": {
        "_uuid": "8f2839f25d086af736a60e9eeb907d3b93b6e0e5",
        "_cell_guid": "b1076dfc-b9ad-4769-8c92-a6c4dae69d19",
        "trusted": true,
        "id": "Mrdwx5elaRPw"
      },
      "outputs": [],
      "execution_count": 34
    },
    {
      "cell_type": "code",
      "source": [
        "import numpy as np\n",
        "import os\n",
        "import random\n",
        "import tensorflow as tf\n",
        "from tensorflow.keras.preprocessing.image import load_img, img_to_array, ImageDataGenerator\n",
        "from tensorflow.keras.applications import MobileNetV2\n",
        "from tensorflow.keras.applications.mobilenet_v2 import preprocess_input\n",
        "from tensorflow.keras.models import Model\n",
        "from tensorflow.keras.layers import Dense, Flatten, Dropout, GlobalAveragePooling2D\n",
        "from tensorflow.keras.optimizers import Adam\n",
        "from sklearn.model_selection import train_test_split\n",
        "from sklearn.preprocessing import LabelBinarizer\n",
        "from tensorflow.keras.callbacks import EarlyStopping, ReduceLROnPlateau"
      ],
      "metadata": {
        "trusted": true,
        "execution": {
          "iopub.status.busy": "2025-03-16T05:21:03.708689Z",
          "iopub.execute_input": "2025-03-16T05:21:03.709056Z",
          "iopub.status.idle": "2025-03-16T05:21:03.714482Z",
          "shell.execute_reply.started": "2025-03-16T05:21:03.709027Z",
          "shell.execute_reply": "2025-03-16T05:21:03.713377Z"
        },
        "id": "vZO28qCLaRPw"
      },
      "outputs": [],
      "execution_count": 97
    },
    {
      "cell_type": "code",
      "source": [
        "from google.colab import files\n",
        "files.upload()"
      ],
      "metadata": {
        "id": "qRJafdWdflvj",
        "outputId": "9889a988-7307-4e54-d9d7-75d7d3f15b1f",
        "colab": {
          "base_uri": "https://localhost:8080/",
          "height": 90
        }
      },
      "execution_count": 35,
      "outputs": [
        {
          "output_type": "display_data",
          "data": {
            "text/plain": [
              "<IPython.core.display.HTML object>"
            ],
            "text/html": [
              "\n",
              "     <input type=\"file\" id=\"files-6933e5cc-4745-40da-b70f-67c09f4b9cb7\" name=\"files[]\" multiple disabled\n",
              "        style=\"border:none\" />\n",
              "     <output id=\"result-6933e5cc-4745-40da-b70f-67c09f4b9cb7\">\n",
              "      Upload widget is only available when the cell has been executed in the\n",
              "      current browser session. Please rerun this cell to enable.\n",
              "      </output>\n",
              "      <script>// Copyright 2017 Google LLC\n",
              "//\n",
              "// Licensed under the Apache License, Version 2.0 (the \"License\");\n",
              "// you may not use this file except in compliance with the License.\n",
              "// You may obtain a copy of the License at\n",
              "//\n",
              "//      http://www.apache.org/licenses/LICENSE-2.0\n",
              "//\n",
              "// Unless required by applicable law or agreed to in writing, software\n",
              "// distributed under the License is distributed on an \"AS IS\" BASIS,\n",
              "// WITHOUT WARRANTIES OR CONDITIONS OF ANY KIND, either express or implied.\n",
              "// See the License for the specific language governing permissions and\n",
              "// limitations under the License.\n",
              "\n",
              "/**\n",
              " * @fileoverview Helpers for google.colab Python module.\n",
              " */\n",
              "(function(scope) {\n",
              "function span(text, styleAttributes = {}) {\n",
              "  const element = document.createElement('span');\n",
              "  element.textContent = text;\n",
              "  for (const key of Object.keys(styleAttributes)) {\n",
              "    element.style[key] = styleAttributes[key];\n",
              "  }\n",
              "  return element;\n",
              "}\n",
              "\n",
              "// Max number of bytes which will be uploaded at a time.\n",
              "const MAX_PAYLOAD_SIZE = 100 * 1024;\n",
              "\n",
              "function _uploadFiles(inputId, outputId) {\n",
              "  const steps = uploadFilesStep(inputId, outputId);\n",
              "  const outputElement = document.getElementById(outputId);\n",
              "  // Cache steps on the outputElement to make it available for the next call\n",
              "  // to uploadFilesContinue from Python.\n",
              "  outputElement.steps = steps;\n",
              "\n",
              "  return _uploadFilesContinue(outputId);\n",
              "}\n",
              "\n",
              "// This is roughly an async generator (not supported in the browser yet),\n",
              "// where there are multiple asynchronous steps and the Python side is going\n",
              "// to poll for completion of each step.\n",
              "// This uses a Promise to block the python side on completion of each step,\n",
              "// then passes the result of the previous step as the input to the next step.\n",
              "function _uploadFilesContinue(outputId) {\n",
              "  const outputElement = document.getElementById(outputId);\n",
              "  const steps = outputElement.steps;\n",
              "\n",
              "  const next = steps.next(outputElement.lastPromiseValue);\n",
              "  return Promise.resolve(next.value.promise).then((value) => {\n",
              "    // Cache the last promise value to make it available to the next\n",
              "    // step of the generator.\n",
              "    outputElement.lastPromiseValue = value;\n",
              "    return next.value.response;\n",
              "  });\n",
              "}\n",
              "\n",
              "/**\n",
              " * Generator function which is called between each async step of the upload\n",
              " * process.\n",
              " * @param {string} inputId Element ID of the input file picker element.\n",
              " * @param {string} outputId Element ID of the output display.\n",
              " * @return {!Iterable<!Object>} Iterable of next steps.\n",
              " */\n",
              "function* uploadFilesStep(inputId, outputId) {\n",
              "  const inputElement = document.getElementById(inputId);\n",
              "  inputElement.disabled = false;\n",
              "\n",
              "  const outputElement = document.getElementById(outputId);\n",
              "  outputElement.innerHTML = '';\n",
              "\n",
              "  const pickedPromise = new Promise((resolve) => {\n",
              "    inputElement.addEventListener('change', (e) => {\n",
              "      resolve(e.target.files);\n",
              "    });\n",
              "  });\n",
              "\n",
              "  const cancel = document.createElement('button');\n",
              "  inputElement.parentElement.appendChild(cancel);\n",
              "  cancel.textContent = 'Cancel upload';\n",
              "  const cancelPromise = new Promise((resolve) => {\n",
              "    cancel.onclick = () => {\n",
              "      resolve(null);\n",
              "    };\n",
              "  });\n",
              "\n",
              "  // Wait for the user to pick the files.\n",
              "  const files = yield {\n",
              "    promise: Promise.race([pickedPromise, cancelPromise]),\n",
              "    response: {\n",
              "      action: 'starting',\n",
              "    }\n",
              "  };\n",
              "\n",
              "  cancel.remove();\n",
              "\n",
              "  // Disable the input element since further picks are not allowed.\n",
              "  inputElement.disabled = true;\n",
              "\n",
              "  if (!files) {\n",
              "    return {\n",
              "      response: {\n",
              "        action: 'complete',\n",
              "      }\n",
              "    };\n",
              "  }\n",
              "\n",
              "  for (const file of files) {\n",
              "    const li = document.createElement('li');\n",
              "    li.append(span(file.name, {fontWeight: 'bold'}));\n",
              "    li.append(span(\n",
              "        `(${file.type || 'n/a'}) - ${file.size} bytes, ` +\n",
              "        `last modified: ${\n",
              "            file.lastModifiedDate ? file.lastModifiedDate.toLocaleDateString() :\n",
              "                                    'n/a'} - `));\n",
              "    const percent = span('0% done');\n",
              "    li.appendChild(percent);\n",
              "\n",
              "    outputElement.appendChild(li);\n",
              "\n",
              "    const fileDataPromise = new Promise((resolve) => {\n",
              "      const reader = new FileReader();\n",
              "      reader.onload = (e) => {\n",
              "        resolve(e.target.result);\n",
              "      };\n",
              "      reader.readAsArrayBuffer(file);\n",
              "    });\n",
              "    // Wait for the data to be ready.\n",
              "    let fileData = yield {\n",
              "      promise: fileDataPromise,\n",
              "      response: {\n",
              "        action: 'continue',\n",
              "      }\n",
              "    };\n",
              "\n",
              "    // Use a chunked sending to avoid message size limits. See b/62115660.\n",
              "    let position = 0;\n",
              "    do {\n",
              "      const length = Math.min(fileData.byteLength - position, MAX_PAYLOAD_SIZE);\n",
              "      const chunk = new Uint8Array(fileData, position, length);\n",
              "      position += length;\n",
              "\n",
              "      const base64 = btoa(String.fromCharCode.apply(null, chunk));\n",
              "      yield {\n",
              "        response: {\n",
              "          action: 'append',\n",
              "          file: file.name,\n",
              "          data: base64,\n",
              "        },\n",
              "      };\n",
              "\n",
              "      let percentDone = fileData.byteLength === 0 ?\n",
              "          100 :\n",
              "          Math.round((position / fileData.byteLength) * 100);\n",
              "      percent.textContent = `${percentDone}% done`;\n",
              "\n",
              "    } while (position < fileData.byteLength);\n",
              "  }\n",
              "\n",
              "  // All done.\n",
              "  yield {\n",
              "    response: {\n",
              "      action: 'complete',\n",
              "    }\n",
              "  };\n",
              "}\n",
              "\n",
              "scope.google = scope.google || {};\n",
              "scope.google.colab = scope.google.colab || {};\n",
              "scope.google.colab._files = {\n",
              "  _uploadFiles,\n",
              "  _uploadFilesContinue,\n",
              "};\n",
              "})(self);\n",
              "</script> "
            ]
          },
          "metadata": {}
        },
        {
          "output_type": "stream",
          "name": "stdout",
          "text": [
            "Saving kaggle.json to kaggle.json\n"
          ]
        },
        {
          "output_type": "execute_result",
          "data": {
            "text/plain": [
              "{'kaggle.json': b'{\"username\":\"chaitanasuricha\",\"key\":\"8de8fed113b252006a40ca11caf11f8e\"}'}"
            ]
          },
          "metadata": {},
          "execution_count": 35
        }
      ]
    },
    {
      "cell_type": "code",
      "source": [
        "!mkdir -p ~/.kaggle\n",
        "!cp kaggle.json ~/.kaggle/\n",
        "!chmod 600 ~/.kaggle/kaggle.json"
      ],
      "metadata": {
        "id": "V9IKepzKgztp"
      },
      "execution_count": 36,
      "outputs": []
    },
    {
      "cell_type": "code",
      "source": [
        "!kaggle datasets download -d shaunthesheep/microsoft-catsvsdogs-dataset -p /content/ --unzip"
      ],
      "metadata": {
        "id": "i-lSum1Fg9_Y",
        "outputId": "b3826470-41de-4db6-a98e-7298f75a3ac0",
        "colab": {
          "base_uri": "https://localhost:8080/"
        }
      },
      "execution_count": 38,
      "outputs": [
        {
          "output_type": "stream",
          "name": "stdout",
          "text": [
            "Warning: Looks like you're using an outdated API Version, please consider updating (server 1.7.4.2 / client 1.6.17)\n",
            "Dataset URL: https://www.kaggle.com/datasets/shaunthesheep/microsoft-catsvsdogs-dataset\n",
            "License(s): other\n",
            "Downloading microsoft-catsvsdogs-dataset.zip to /content\n",
            "100% 786M/788M [00:07<00:00, 158MB/s]\n",
            "100% 788M/788M [00:07<00:00, 116MB/s]\n"
          ]
        }
      ]
    },
    {
      "cell_type": "code",
      "source": [
        "# Function to load a limited number of images\n",
        "def load_images(folder, label, img_size=(224, 224), max_images=1040):\n",
        "    images, labels = [], []\n",
        "    filenames = [f for f in os.listdir(folder) if f.lower().endswith(('.jpg', '.jpeg', '.png'))]\n",
        "    random.shuffle(filenames)  # Shuffle filenames to get a random subset\n",
        "    filenames = filenames[:max_images]  # Limit the number of images\n",
        "\n",
        "    for filename in filenames:\n",
        "        img_path = os.path.join(folder, filename)\n",
        "        try:\n",
        "            img = load_img(img_path, target_size=img_size)\n",
        "            img = img_to_array(img)\n",
        "            img = preprocess_input(img)  # Preprocess for MobileNetV2\n",
        "            images.append(img)\n",
        "            labels.append(1 if label == \"Dog\" else 0)  # Convert to binary labels\n",
        "        except Exception as e:\n",
        "            print(f\"Skipping corrupted image: {img_path}\")\n",
        "            continue\n",
        "    return images, labels"
      ],
      "metadata": {
        "trusted": true,
        "execution": {
          "iopub.status.busy": "2025-03-16T05:21:05.807006Z",
          "iopub.execute_input": "2025-03-16T05:21:05.807419Z",
          "iopub.status.idle": "2025-03-16T05:21:05.813646Z",
          "shell.execute_reply.started": "2025-03-16T05:21:05.807386Z",
          "shell.execute_reply": "2025-03-16T05:21:05.812609Z"
        },
        "id": "XcRzv7P5aRPx"
      },
      "outputs": [],
      "execution_count": 87
    },
    {
      "cell_type": "code",
      "source": [
        "# Load a limited dataset\n",
        "dataset_path = \"/content/PetImages\"\n",
        "dog_path = f\"{dataset_path}/Dog\"\n",
        "cat_path = f\"{dataset_path}/Cat\"\n",
        "\n",
        "dog_images, dog_labels = load_images(dog_path, label=\"Dog\", max_images=520)\n",
        "cat_images, cat_labels = load_images(cat_path, label=\"Cat\", max_images=520)\n",
        "\n",
        "data = np.array(dog_images + cat_images)\n",
        "labels = np.array(dog_labels + cat_labels)"
      ],
      "metadata": {
        "trusted": true,
        "execution": {
          "iopub.status.busy": "2025-03-16T05:21:15.084508Z",
          "iopub.execute_input": "2025-03-16T05:21:15.08482Z",
          "iopub.status.idle": "2025-03-16T05:21:58.456902Z",
          "shell.execute_reply.started": "2025-03-16T05:21:15.084796Z",
          "shell.execute_reply": "2025-03-16T05:21:58.45575Z"
        },
        "id": "5ZTjnBlDaRPx",
        "outputId": "f31d751b-a43a-4d67-87fa-7316407d1355",
        "colab": {
          "base_uri": "https://localhost:8080/"
        }
      },
      "outputs": [
        {
          "output_type": "stream",
          "name": "stdout",
          "text": [
            "Skipping corrupted image: /content/PetImages/Cat/666.jpg\n"
          ]
        }
      ],
      "execution_count": 88
    },
    {
      "cell_type": "code",
      "source": [
        "# Encode labels\n",
        "lb = LabelBinarizer()\n",
        "labels = lb.fit_transform(labels)"
      ],
      "metadata": {
        "trusted": true,
        "execution": {
          "iopub.status.busy": "2025-03-16T05:22:10.876869Z",
          "iopub.execute_input": "2025-03-16T05:22:10.877354Z",
          "iopub.status.idle": "2025-03-16T05:22:10.8919Z",
          "shell.execute_reply.started": "2025-03-16T05:22:10.877314Z",
          "shell.execute_reply": "2025-03-16T05:22:10.890598Z"
        },
        "id": "heaXfpW9aRPx"
      },
      "outputs": [],
      "execution_count": 89
    },
    {
      "cell_type": "code",
      "source": [
        "# Split dataset\n",
        "X_train, X_test, y_train, y_test = train_test_split(data, labels, test_size=0.2, random_state=42)"
      ],
      "metadata": {
        "trusted": true,
        "execution": {
          "iopub.status.busy": "2025-03-16T05:22:26.363394Z",
          "iopub.execute_input": "2025-03-16T05:22:26.363718Z",
          "iopub.status.idle": "2025-03-16T05:22:27.293601Z",
          "shell.execute_reply.started": "2025-03-16T05:22:26.363693Z",
          "shell.execute_reply": "2025-03-16T05:22:27.292755Z"
        },
        "id": "P3EV3UivaRPy"
      },
      "outputs": [],
      "execution_count": 90
    },
    {
      "cell_type": "code",
      "source": [
        "# Data Augmentation\n",
        "data_generator = ImageDataGenerator(\n",
        "    rotation_range=30,\n",
        "    width_shift_range=0.2,\n",
        "    height_shift_range=0.2,\n",
        "    shear_range=0.2,\n",
        "    zoom_range=0.2,\n",
        "    horizontal_flip=True,\n",
        "    fill_mode='nearest'\n",
        ")"
      ],
      "metadata": {
        "trusted": true,
        "execution": {
          "iopub.status.busy": "2025-03-16T05:22:33.144114Z",
          "iopub.execute_input": "2025-03-16T05:22:33.14449Z",
          "iopub.status.idle": "2025-03-16T05:22:33.149104Z",
          "shell.execute_reply.started": "2025-03-16T05:22:33.144459Z",
          "shell.execute_reply": "2025-03-16T05:22:33.147911Z"
        },
        "id": "5HH2Nry4aRPy"
      },
      "outputs": [],
      "execution_count": 91
    },
    {
      "cell_type": "code",
      "source": [
        "# Load MobileNetV2 pre-trained model\n",
        "base_model = MobileNetV2(weights='imagenet', include_top=False, input_shape=(224, 224, 3))\n",
        "\n",
        "# Unfreeze last few layers for fine-tuning\n",
        "for layer in base_model.layers[-30:]:\n",
        "    layer.trainable = True\n",
        "\n",
        "# Build model\n",
        "x = base_model.output\n",
        "x = GlobalAveragePooling2D()(x)\n",
        "x = Dense(128, activation='relu')(x)\n",
        "x = Dropout(0.5)(x)\n",
        "out = Dense(1, activation='sigmoid')(x)\n",
        "\n",
        "model = Model(inputs=base_model.input, outputs=out)\n",
        "\n",
        "model.compile(optimizer=Adam(learning_rate=0.00001), loss='binary_crossentropy', metrics=['accuracy'])"
      ],
      "metadata": {
        "trusted": true,
        "execution": {
          "iopub.status.busy": "2025-03-16T05:22:45.826658Z",
          "iopub.execute_input": "2025-03-16T05:22:45.827011Z",
          "iopub.status.idle": "2025-03-16T05:23:19.080192Z",
          "shell.execute_reply.started": "2025-03-16T05:22:45.826953Z",
          "shell.execute_reply": "2025-03-16T05:23:19.078536Z"
        },
        "id": "Ww66OqoeaRPy"
      },
      "outputs": [],
      "execution_count": 102
    },
    {
      "cell_type": "code",
      "source": [
        "# Train model with data augmentation\n",
        "history = model.fit(\n",
        "    data_generator.flow(X_train, y_train, batch_size=32),\n",
        "    validation_data=(X_test, y_test),\n",
        "    epochs=10\n",
        ")"
      ],
      "metadata": {
        "trusted": true,
        "id": "-zJkw8U0aRPz",
        "outputId": "e78ce048-02eb-4721-a2e6-e2f62ff2cdfd",
        "colab": {
          "base_uri": "https://localhost:8080/"
        }
      },
      "outputs": [
        {
          "output_type": "stream",
          "name": "stderr",
          "text": [
            "/usr/local/lib/python3.11/dist-packages/keras/src/trainers/data_adapters/py_dataset_adapter.py:121: UserWarning: Your `PyDataset` class should call `super().__init__(**kwargs)` in its constructor. `**kwargs` can include `workers`, `use_multiprocessing`, `max_queue_size`. Do not pass these arguments to `fit()`, as they will be ignored.\n",
            "  self._warn_if_super_not_called()\n"
          ]
        },
        {
          "output_type": "stream",
          "name": "stdout",
          "text": [
            "Epoch 1/10\n",
            "\u001b[1m26/26\u001b[0m \u001b[32m━━━━━━━━━━━━━━━━━━━━\u001b[0m\u001b[37m\u001b[0m \u001b[1m252s\u001b[0m 8s/step - accuracy: 0.5098 - loss: 0.8381 - val_accuracy: 0.5962 - val_loss: 0.6449\n",
            "Epoch 2/10\n",
            "\u001b[1m26/26\u001b[0m \u001b[32m━━━━━━━━━━━━━━━━━━━━\u001b[0m\u001b[37m\u001b[0m \u001b[1m200s\u001b[0m 8s/step - accuracy: 0.6104 - loss: 0.6954 - val_accuracy: 0.8125 - val_loss: 0.4756\n",
            "Epoch 3/10\n",
            "\u001b[1m26/26\u001b[0m \u001b[32m━━━━━━━━━━━━━━━━━━━━\u001b[0m\u001b[37m\u001b[0m \u001b[1m197s\u001b[0m 8s/step - accuracy: 0.7585 - loss: 0.5173 - val_accuracy: 0.8846 - val_loss: 0.3644\n",
            "Epoch 4/10\n",
            "\u001b[1m26/26\u001b[0m \u001b[32m━━━━━━━━━━━━━━━━━━━━\u001b[0m\u001b[37m\u001b[0m \u001b[1m199s\u001b[0m 8s/step - accuracy: 0.8267 - loss: 0.4321 - val_accuracy: 0.9279 - val_loss: 0.2913\n",
            "Epoch 5/10\n",
            "\u001b[1m26/26\u001b[0m \u001b[32m━━━━━━━━━━━━━━━━━━━━\u001b[0m\u001b[37m\u001b[0m \u001b[1m194s\u001b[0m 7s/step - accuracy: 0.8215 - loss: 0.3935 - val_accuracy: 0.9471 - val_loss: 0.2339\n",
            "Epoch 6/10\n",
            "\u001b[1m26/26\u001b[0m \u001b[32m━━━━━━━━━━━━━━━━━━━━\u001b[0m\u001b[37m\u001b[0m \u001b[1m195s\u001b[0m 7s/step - accuracy: 0.8481 - loss: 0.3573 - val_accuracy: 0.9567 - val_loss: 0.1897\n",
            "Epoch 7/10\n",
            "\u001b[1m26/26\u001b[0m \u001b[32m━━━━━━━━━━━━━━━━━━━━\u001b[0m\u001b[37m\u001b[0m \u001b[1m195s\u001b[0m 8s/step - accuracy: 0.9102 - loss: 0.2815 - val_accuracy: 0.9663 - val_loss: 0.1579\n",
            "Epoch 8/10\n",
            "\u001b[1m26/26\u001b[0m \u001b[32m━━━━━━━━━━━━━━━━━━━━\u001b[0m\u001b[37m\u001b[0m \u001b[1m196s\u001b[0m 8s/step - accuracy: 0.9099 - loss: 0.2739 - val_accuracy: 0.9712 - val_loss: 0.1324\n",
            "Epoch 9/10\n",
            "\u001b[1m26/26\u001b[0m \u001b[32m━━━━━━━━━━━━━━━━━━━━\u001b[0m\u001b[37m\u001b[0m \u001b[1m202s\u001b[0m 8s/step - accuracy: 0.9024 - loss: 0.2779 - val_accuracy: 0.9760 - val_loss: 0.1132\n",
            "Epoch 10/10\n",
            "\u001b[1m26/26\u001b[0m \u001b[32m━━━━━━━━━━━━━━━━━━━━\u001b[0m\u001b[37m\u001b[0m \u001b[1m202s\u001b[0m 8s/step - accuracy: 0.9287 - loss: 0.2091 - val_accuracy: 0.9760 - val_loss: 0.0985\n"
          ]
        }
      ],
      "execution_count": 103
    },
    {
      "cell_type": "code",
      "source": [
        "# Evaluate model\n",
        "loss, acc = model.evaluate(X_test, y_test)\n",
        "print(f\"Test Accuracy: {acc:.4f}\")"
      ],
      "metadata": {
        "id": "YKHuHwJMmSPL",
        "outputId": "26e0d415-33bc-45d1-a55e-240a1832da9f",
        "colab": {
          "base_uri": "https://localhost:8080/"
        }
      },
      "execution_count": 86,
      "outputs": [
        {
          "output_type": "stream",
          "name": "stdout",
          "text": [
            "\u001b[1m7/7\u001b[0m \u001b[32m━━━━━━━━━━━━━━━━━━━━\u001b[0m\u001b[37m\u001b[0m \u001b[1m9s\u001b[0m 1s/step - accuracy: 0.9699 - loss: 0.0837\n",
            "Test Accuracy: 0.9760\n"
          ]
        }
      ]
    },
    {
      "cell_type": "code",
      "source": [
        "import matplotlib.pyplot as plt\n",
        "\n",
        "# Plot Training & Validation Accuracy and Loss\n",
        "plt.figure(figsize=(12, 5))\n",
        "plt.gcf().patch.set_facecolor(\"black\")\n",
        "\n",
        "# Accuracy Graph\n",
        "plt.subplot(1, 2, 1)\n",
        "plt.plot(history.history.get('accuracy', []), marker='o', label=\"Training Accuracy\")\n",
        "plt.plot(history.history.get('val_accuracy', []), marker='o', label=\"Validation Accuracy\")\n",
        "plt.title(\"Training and Validation Accuracy\", fontsize=14, color=\"white\")\n",
        "plt.xlabel(\"Epochs\", fontsize=12, color=\"white\")\n",
        "plt.ylabel(\"Accuracy\", fontsize=12, color=\"white\")\n",
        "plt.legend()\n",
        "plt.grid(alpha=0.3)\n",
        "plt.xticks(color=\"white\")\n",
        "plt.yticks(color=\"white\")\n",
        "\n",
        "# Loss Graph\n",
        "plt.subplot(1, 2, 2)\n",
        "plt.plot(history.history.get('loss', []), marker='o', label=\"Training Loss\")\n",
        "plt.plot(history.history.get('val_loss', []), marker='o', label=\"Validation Loss\")\n",
        "plt.title(\"Training and Validation Loss\", fontsize=14, color=\"white\")\n",
        "plt.xlabel(\"Epochs\", fontsize=12, color=\"white\")\n",
        "plt.ylabel(\"Loss\", fontsize=12, color=\"white\")\n",
        "plt.legend()\n",
        "plt.grid(alpha=0.3)\n",
        "plt.xticks(color=\"white\")\n",
        "plt.yticks(color=\"white\")\n",
        "\n",
        "plt.show()"
      ],
      "metadata": {
        "id": "dSBrDFYJxUt-",
        "outputId": "77bdc26c-b0a2-4a6a-c891-4e47860687c9",
        "colab": {
          "base_uri": "https://localhost:8080/",
          "height": 492
        }
      },
      "execution_count": 105,
      "outputs": [
        {
          "output_type": "display_data",
          "data": {
            "text/plain": [
              "<Figure size 1200x500 with 2 Axes>"
            ],
            "image/png": "[encoded data removed]"
          },
          "metadata": {}
        }
      ]
    },
    {
      "cell_type": "code",
      "source": [
        "model.save(\"mobilenetv2_cat_dog.h5\")"
      ],
      "metadata": {
        "id": "C8Xx_P0j9Bg9",
        "outputId": "f1f330c9-d921-4455-f7a1-2e007d10a54d",
        "colab": {
          "base_uri": "https://localhost:8080/"
        }
      },
      "execution_count": 106,
      "outputs": [
        {
          "output_type": "stream",
          "name": "stderr",
          "text": [
            "WARNING:absl:You are saving your model as an HDF5 file via `model.save()` or `keras.saving.save_model(model)`. This file format is considered legacy. We recommend using instead the native Keras format, e.g. `model.save('my_model.keras')` or `keras.saving.save_model(model, 'my_model.keras')`. \n"
          ]
        }
      ]
    }
  ]
}